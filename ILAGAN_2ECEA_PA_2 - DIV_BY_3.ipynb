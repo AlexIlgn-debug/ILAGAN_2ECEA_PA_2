{
 "cells": [
  {
   "cell_type": "code",
   "execution_count": 1,
   "id": "2700a2e1-337d-46d2-90f9-90f275c4b14a",
   "metadata": {},
   "outputs": [],
   "source": [
    "import numpy as np"
   ]
  },
  {
   "cell_type": "code",
   "execution_count": 37,
   "id": "b880ea13-1f8f-45d9-9584-29ff5e06f263",
   "metadata": {},
   "outputs": [],
   "source": [
    "A = np.arange(1,101).reshape(10,10) ** 2\n",
    "div3 = A % 3 == 0\n",
    "div3_A = A[div3]\n",
    "div3_A\n",
    "\n",
    "np.save('div_by_3', div3_A)"
   ]
  },
  {
   "cell_type": "code",
   "execution_count": null,
   "id": "a7c36f72-e4fb-4ca8-b94b-7264b913662b",
   "metadata": {},
   "outputs": [],
   "source": []
  }
 ],
 "metadata": {
  "kernelspec": {
   "display_name": "Python [conda env:base] *",
   "language": "python",
   "name": "conda-base-py"
  },
  "language_info": {
   "codemirror_mode": {
    "name": "ipython",
    "version": 3
   },
   "file_extension": ".py",
   "mimetype": "text/x-python",
   "name": "python",
   "nbconvert_exporter": "python",
   "pygments_lexer": "ipython3",
   "version": "3.13.5"
  }
 },
 "nbformat": 4,
 "nbformat_minor": 5
}
