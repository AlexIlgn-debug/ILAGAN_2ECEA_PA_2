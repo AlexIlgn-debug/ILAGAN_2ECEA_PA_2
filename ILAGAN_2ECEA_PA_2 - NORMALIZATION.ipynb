{
 "cells": [
  {
   "cell_type": "markdown",
   "id": "00875952-6785-412c-874f-a5a9483802d7",
   "metadata": {},
   "source": [
    "# "
   ]
  },
  {
   "cell_type": "code",
   "execution_count": 12,
   "id": "04dd8674-f84c-4914-ba6d-55ade52e6e09",
   "metadata": {},
   "outputs": [
    {
     "name": "stdout",
     "output_type": "stream",
     "text": [
      "[[0.24830137 0.04762938 0.1141833  0.9182074  0.65865232]\n",
      " [0.16538193 0.94093295 0.54374667 0.04190504 0.40942888]\n",
      " [0.03965025 0.41227329 0.35102221 0.96974939 0.78675813]\n",
      " [0.13951029 0.87222913 0.97662456 0.33408187 0.78092987]\n",
      " [0.2472036  0.24155114 0.73503654 0.1975708  0.79694839]]\n",
      "Mean: \n",
      "0.47878034767230937\n",
      "Standard deviation: \n",
      "0.3252345327201818\n",
      "Normalized Array: \n"
     ]
    }
   ],
   "source": [
    "import numpy as np\n",
    "X = np.random.random((5,5))\n",
    "\n",
    "print(X)\n",
    "mean = X.mean()\n",
    "std = X.std()\n",
    "print(\"Mean: \")\n",
    "print(mean)\n",
    "print(\"Standard deviation: \")\n",
    "print(std)\n",
    "\n",
    "normalized = (X - mean)/std\n",
    "print(\"Normalized Array: \")\n",
    "normalized\n",
    "\n",
    "np.save('X_normalized', normalized)"
   ]
  },
  {
   "cell_type": "code",
   "execution_count": 14,
   "id": "4f20f787-0e14-4572-b0e4-898713edc4dc",
   "metadata": {},
   "outputs": [
    {
     "data": {
      "text/plain": [
       "array([[ 1.12280939, -1.31037068,  1.13447862, -0.93460241, -1.50377565],\n",
       "       [-1.40565468, -0.47459904,  0.2752533 ,  1.50210544, -0.77982982],\n",
       "       [ 0.36736368, -1.1853778 , -0.41809821,  0.03926851, -1.26577209],\n",
       "       [ 0.05984429,  1.0006064 , -0.99368417,  0.27494591, -0.2455608 ],\n",
       "       [ 1.43363886,  0.68720581,  1.32105863, -0.3243292 ,  1.62307572]])"
      ]
     },
     "execution_count": 14,
     "metadata": {},
     "output_type": "execute_result"
    }
   ],
   "source": [
    "np.load('X_normalized.ppy.npy')"
   ]
  },
  {
   "cell_type": "code",
   "execution_count": null,
   "id": "5bb4f247-5d91-40fd-94d3-c34b374c4d74",
   "metadata": {},
   "outputs": [],
   "source": []
  }
 ],
 "metadata": {
  "kernelspec": {
   "display_name": "Python [conda env:base] *",
   "language": "python",
   "name": "conda-base-py"
  },
  "language_info": {
   "codemirror_mode": {
    "name": "ipython",
    "version": 3
   },
   "file_extension": ".py",
   "mimetype": "text/x-python",
   "name": "python",
   "nbconvert_exporter": "python",
   "pygments_lexer": "ipython3",
   "version": "3.13.5"
  }
 },
 "nbformat": 4,
 "nbformat_minor": 5
}
